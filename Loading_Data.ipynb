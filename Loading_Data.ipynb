{
 "cells": [
  {
   "cell_type": "code",
   "execution_count": 1,
   "metadata": {},
   "outputs": [],
   "source": [
    "#우리가 원하는 데이터셋 지정 가능\n",
    "from torch.utils.data import Dataset\n",
    "import torch\n",
    "import torch.nn as nn\n",
    "import torch.nn.functional as F\n",
    "import torch.optim as optim"
   ]
  },
  {
   "cell_type": "code",
   "execution_count": 2,
   "metadata": {},
   "outputs": [],
   "source": [
    "class CustomDataset(Dataset):\n",
    "    def __init__(self):\n",
    "        self.x_data = [[73, 80, 75],\n",
    "                      [93, 88, 93],\n",
    "                      [89, 91, 90],\n",
    "                      [96, 66, 70]]\n",
    "        \n",
    "        self.y_data = [[152], [185], [180], [196], [142]]\n",
    "        \n",
    "    def __len__(self):\n",
    "        return len(self.x_data)\n",
    "    \n",
    "    def __getitem__(self, idx):\n",
    "        x = torch.FloatTensor(self.x_data[idx])\n",
    "        y = torch.FloatTensor(self.y_data[idx])\n",
    "        \n",
    "        return x, y\n",
    "    \n",
    "dataset = CustomDataset()"
   ]
  },
  {
   "cell_type": "code",
   "execution_count": 3,
   "metadata": {},
   "outputs": [],
   "source": [
    "class MultivariateLinearRegressionModel(nn.Module):\n",
    "    def __init__(self):\n",
    "        super().__init__()\n",
    "        self.linear = nn.Linear(3, 1)\n",
    "\n",
    "    def forward(self, x):\n",
    "        return self.linear(x)"
   ]
  },
  {
   "cell_type": "code",
   "execution_count": 4,
   "metadata": {},
   "outputs": [],
   "source": [
    "from torch.utils.data import DataLoader\n",
    "\n",
    "dataloader = DataLoader(\n",
    "    dataset,\n",
    "    batch_size = 2,\n",
    "    shuffle = True\n",
    ")"
   ]
  },
  {
   "cell_type": "code",
   "execution_count": 5,
   "metadata": {},
   "outputs": [],
   "source": [
    "model = MultivariateLinearRegressionModel()"
   ]
  },
  {
   "cell_type": "code",
   "execution_count": 6,
   "metadata": {},
   "outputs": [],
   "source": [
    "optimizer = optim.SGD(model.parameters(), lr=1e-5)"
   ]
  },
  {
   "cell_type": "code",
   "execution_count": 7,
   "metadata": {},
   "outputs": [
    {
     "name": "stdout",
     "output_type": "stream",
     "text": [
      "Epoch    0/20 Batch 1/2 Cost:22226.566406\n",
      "Epoch    0/20 Batch 2/2 Cost:12439.666016\n",
      "Epoch    1/20 Batch 1/2 Cost:4001.832764\n",
      "Epoch    1/20 Batch 2/2 Cost:402.571350\n",
      "Epoch    2/20 Batch 1/2 Cost:1363.593994\n",
      "Epoch    2/20 Batch 2/2 Cost:10.872295\n",
      "Epoch    3/20 Batch 1/2 Cost:824.632385\n",
      "Epoch    3/20 Batch 2/2 Cost:89.579659\n",
      "Epoch    4/20 Batch 1/2 Cost:33.663177\n",
      "Epoch    4/20 Batch 2/2 Cost:779.550720\n",
      "Epoch    5/20 Batch 1/2 Cost:592.616821\n",
      "Epoch    5/20 Batch 2/2 Cost:177.175705\n",
      "Epoch    6/20 Batch 1/2 Cost:622.968628\n",
      "Epoch    6/20 Batch 2/2 Cost:148.898804\n",
      "Epoch    7/20 Batch 1/2 Cost:57.504551\n",
      "Epoch    7/20 Batch 2/2 Cost:706.890503\n",
      "Epoch    8/20 Batch 1/2 Cost:562.793457\n",
      "Epoch    8/20 Batch 2/2 Cost:184.332413\n",
      "Epoch    9/20 Batch 1/2 Cost:580.819885\n",
      "Epoch    9/20 Batch 2/2 Cost:211.014130\n",
      "Epoch   10/20 Batch 1/2 Cost:40.058670\n",
      "Epoch   10/20 Batch 2/2 Cost:696.709167\n",
      "Epoch   11/20 Batch 1/2 Cost:524.836853\n",
      "Epoch   11/20 Batch 2/2 Cost:249.864273\n",
      "Epoch   12/20 Batch 1/2 Cost:600.627747\n",
      "Epoch   12/20 Batch 2/2 Cost:133.441162\n",
      "Epoch   13/20 Batch 1/2 Cost:44.347549\n",
      "Epoch   13/20 Batch 2/2 Cost:670.585693\n",
      "Epoch   14/20 Batch 1/2 Cost:534.635742\n",
      "Epoch   14/20 Batch 2/2 Cost:171.902390\n",
      "Epoch   15/20 Batch 1/2 Cost:57.136528\n",
      "Epoch   15/20 Batch 2/2 Cost:643.107727\n",
      "Epoch   16/20 Batch 1/2 Cost:490.469391\n",
      "Epoch   16/20 Batch 2/2 Cost:251.123886\n",
      "Epoch   17/20 Batch 1/2 Cost:564.698730\n",
      "Epoch   17/20 Batch 2/2 Cost:140.029739\n",
      "Epoch   18/20 Batch 1/2 Cost:571.788635\n",
      "Epoch   18/20 Batch 2/2 Cost:123.821198\n",
      "Epoch   19/20 Batch 1/2 Cost:56.788094\n",
      "Epoch   19/20 Batch 2/2 Cost:649.393433\n",
      "Epoch   20/20 Batch 1/2 Cost:504.552490\n",
      "Epoch   20/20 Batch 2/2 Cost:163.314697\n"
     ]
    }
   ],
   "source": [
    "nb_epochs = 20\n",
    "\n",
    "for epoch in range(nb_epochs + 1):\n",
    "    for batch_idx, samples in enumerate(dataloader):\n",
    "        x_train, y_train = samples\n",
    "        \n",
    "        #H(x) 계산\n",
    "        prediction = model(x_train)\n",
    "        \n",
    "        cost = F.mse_loss(prediction, y_train)\n",
    "        \n",
    "        #cost로 H(x) 개선\n",
    "        optimizer.zero_grad()\n",
    "        cost.backward()\n",
    "        optimizer.step()\n",
    "        \n",
    "        print('Epoch {:4d}/{} Batch {}/{} Cost:{:.6f}'.format(\n",
    "        epoch, nb_epochs, batch_idx+1, len(dataloader), cost.item()))"
   ]
  }
 ],
 "metadata": {
  "kernelspec": {
   "display_name": "Python 3",
   "language": "python",
   "name": "python3"
  },
  "language_info": {
   "codemirror_mode": {
    "name": "ipython",
    "version": 3
   },
   "file_extension": ".py",
   "mimetype": "text/x-python",
   "name": "python",
   "nbconvert_exporter": "python",
   "pygments_lexer": "ipython3",
   "version": "3.7.7"
  }
 },
 "nbformat": 4,
 "nbformat_minor": 4
}
